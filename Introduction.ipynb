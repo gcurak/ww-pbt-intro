{
 "cells": [
  {
   "cell_type": "markdown",
   "id": "d9a61111-1800-444e-b3f0-467621964238",
   "metadata": {
    "editable": true,
    "slideshow": {
     "slide_type": ""
    },
    "tags": []
   },
   "source": [
    " ### 1. Introduction"
   ]
  },
  {
   "cell_type": "markdown",
   "id": "5a32e9f6-1faf-410d-9c19-a305429fb05c",
   "metadata": {},
   "source": [
    "Very often it's easier to describe the type of data we want to feed to a function instead of coming up with actual test cases. Hypothesis let's you do that via it's  `given` decorator and its respective strategy functions `hypothesis.strategies`.\n",
    "\n",
    "```python\n",
    "from hypothesis import given\n",
    "import hypothesis.strategies as st\n",
    "\n",
    "@given(x=st.integers())\n",
    "def some_test(x):\n",
    "    # some_test will get called repeatedly\n",
    "    # x is a single integer what is sampled from `st.integers`\n",
    "````"
   ]
  },
  {
   "cell_type": "markdown",
   "id": "65753d79-2858-47eb-94cb-df370636bf48",
   "metadata": {},
   "source": [
    "Core strategies are defined by the strategies module:\n",
    "\n",
    "* st.booleans\n",
    "* st.integers\n",
    "* st.floats\n",
    "* st.texts\n",
    "* st.lists\n",
    "* st.tuples\n",
    "* st.datetimes\n",
    "* st.decimals\n",
    "* st.fixed_dictionaries and st.dictionaries\n",
    "* st.emails\n",
    "\n",
    "More details can be found in the [docs](https://hypothesis.readthedocs.io/en/latest/data.html)."
   ]
  },
  {
   "cell_type": "markdown",
   "id": "a664e05f-2993-4c50-9845-a1947b4eec25",
   "metadata": {},
   "source": [
    "---"
   ]
  },
  {
   "cell_type": "markdown",
   "id": "47b6cdc0-05c7-4912-9e63-f61d2136f7df",
   "metadata": {},
   "source": [
    "The `count_vowels` function below computes the number of vowels in a given `string`. \n",
    "Its implementation can be found in `src\\vowels`."
   ]
  },
  {
   "cell_type": "code",
   "execution_count": null,
   "id": "d6f6a3fb-02d5-467c-bc13-0e61487915a3",
   "metadata": {
    "editable": true,
    "slideshow": {
     "slide_type": ""
    },
    "tags": []
   },
   "outputs": [],
   "source": [
    "from hypothesis import given\n",
    "import hypothesis.strategies as st"
   ]
  },
  {
   "cell_type": "markdown",
   "id": "01c8d04e-e699-45a8-877e-939c1591698f",
   "metadata": {
    "editable": true,
    "slideshow": {
     "slide_type": ""
    },
    "tags": []
   },
   "source": [
    "```python\n",
    "def count_vowels(string: str, include_y=True):\n",
    "  vowels = 'aeiou'\n",
    "  if include_y:\n",
    "      vowels = 'aeiouy'\n",
    "  tally = []\n",
    "  for c in string:\n",
    "      if c in vowels:\n",
    "          tally.append(1)\n",
    "  return sum(tally)\n",
    "```"
   ]
  },
  {
   "cell_type": "markdown",
   "id": "e53dc8bc-6d49-48bf-9d21-b5784ade8665",
   "metadata": {
    "jp-MarkdownHeadingCollapsed": true
   },
   "source": [
    "<div class=\"alert alert-info\">\n",
    "Exercise 1a:\n",
    "    \n",
    "Think about how you would test this function in your \"regular\" approach?\n",
    "\n",
    "What edge cases could there be?\n",
    "\n",
    "Write some assertions that would resemble your test function(s)\n",
    "</div>"
   ]
  },
  {
   "cell_type": "code",
   "execution_count": null,
   "id": "c0ed7e86-ff2f-466c-b322-2e1afba2df00",
   "metadata": {},
   "outputs": [],
   "source": [
    "from src.vowels import count_vowels\n",
    "# TODO: regular pytest-style assertions go here\n",
    "assert count_vowels(\"Wazzap?\") == 2\n",
    "# ..."
   ]
  },
  {
   "cell_type": "markdown",
   "id": "2045d75d-940c-4a58-ac63-df40612052c7",
   "metadata": {},
   "source": [
    "<div class=\"alert alert-info\">\n",
    "Exercise 1b:\n",
    "    \n",
    "Now it's time to write a hypothesis test function.\n",
    "\n",
    "* Start by writing a simple fuzz test\n",
    "* Don't forget to execute the test function\n",
    "    - the test either crashes or succeeds. In either case you should find a `.hypothesis` directory in your working directory.\n",
    "* Now think about some properties that you could test?\n",
    "  - Which properties did come up with?\n",
    "  - hint: think about metamorphic properties mentioned in the slides\n",
    "</div>"
   ]
  },
  {
   "cell_type": "code",
   "execution_count": null,
   "id": "ea2bded6-ed9d-48d3-a406-3917d1981b28",
   "metadata": {},
   "outputs": [],
   "source": [
    "@given(...)\n",
    "def test_count_vowels(string):\n",
    "    pass # TODO\n",
    "    \n",
    "# don't forget to call test_count_vowels\n",
    "#test_count_vowels()"
   ]
  },
  {
   "cell_type": "markdown",
   "id": "2c5c0baf-1bf7-441f-8903-dd2259207855",
   "metadata": {},
   "source": [
    "ℹ️ print-debugging does not work in its regular from.\n",
    "You might want to use the `hypothesis.note` function to get a sense why an example failed"
   ]
  },
  {
   "cell_type": "markdown",
   "id": "9ef1d868-0b8b-4a11-8f3e-0f6095ae09ac",
   "metadata": {},
   "source": [
    " ### 2. More strategies"
   ]
  },
  {
   "cell_type": "markdown",
   "id": "ee72f8fa-8bcd-4db6-9e89-c772d64aa890",
   "metadata": {},
   "source": [
    "strategies behave in a similar way to Python's generator objects, and so they lend themselves \n",
    "perfectly to the functional programming style.\n",
    "\n",
    "Hypothesis supports this by providing `.map` and `.filter`"
   ]
  },
  {
   "cell_type": "code",
   "execution_count": null,
   "id": "16726cea-14b3-40d9-b7e8-370e84319eca",
   "metadata": {},
   "outputs": [],
   "source": [
    "person = dict(name=st.text(min_size=5,max_size=20),\n",
    "              age=st.integers(0,100))\n",
    "\n",
    "st.fixed_dictionaries(person).filter(lambda x: x[\"age\"] >= 18).example()"
   ]
  },
  {
   "cell_type": "markdown",
   "id": "83dd04cd-6f15-4b11-be00-1a1c86805993",
   "metadata": {},
   "source": [
    "<div class=\"alert alert-warning\">\n",
    "\n",
    "Note: `.example()` is only meant for debugging purposes and should never be part of your actual test function.\n",
    "</div>"
   ]
  },
  {
   "cell_type": "markdown",
   "id": "9252cb0d-e40e-45d9-ad1c-10aa50bb2ff4",
   "metadata": {},
   "source": [
    "<div class=\"alert alert-info\">\n",
    "Exercise 2:\n",
    "    \n",
    "The function below `sum_perfect_squares` requires its argument to be perfect squares.\n",
    "Write a corresponding test that generates those and test its properties\n",
    "\n",
    "* ℹ️ You might also want to limit the range of the perfect squares to be smaller than 10^8, otherwise numerical problems may ensue.\n",
    "* Add a filter that removes more than 50% of the examples. What happens?\n",
    "\n",
    "</div>"
   ]
  },
  {
   "cell_type": "markdown",
   "id": "7e11acd9-358a-498e-9bbb-685e0c3a0f41",
   "metadata": {},
   "source": [
    "```python\n",
    "from math import sqrt\n",
    "\n",
    "def sum_perfect_squares(x: int, y: int):\n",
    "    \"\"\"returns the sum of two perfect squares \"\"\"\n",
    "    assert sqrt(x)*sqrt(x) == x\n",
    "    assert sqrt(y)*sqrt(y) == y\n",
    "\n",
    "    ...\n",
    "```"
   ]
  },
  {
   "cell_type": "code",
   "execution_count": null,
   "id": "d33ba49f-0ffe-4e08-811e-5f4f42ad53ff",
   "metadata": {},
   "outputs": [],
   "source": [
    "from hypothesis import settings, note, example\n",
    "from src.squares import sum_perfect_squares\n",
    "\n",
    "def perfect_squares():\n",
    "    \"\"\"A strategy that returns perfect squares\"\"\"\n",
    "    # TODO: implement a strategie that generates perfect squares x, such that x=y*y\n",
    "    #       Add a filter for such that squares are less than 10^8\n",
    "    #\n",
    "    #       If that worked attach another filter that removes 50% of values\n",
    "    #       and see what happens\n",
    "    pass"
   ]
  },
  {
   "cell_type": "code",
   "execution_count": null,
   "id": "67541450-38e7-4eb9-bcee-d11eeeeca2e7",
   "metadata": {},
   "outputs": [],
   "source": [
    "# `settings` is a way to crank up the number of test examples\n",
    "@settings(max_examples=1000)\n",
    "@given(x=perfect_squares() ,y=perfect_squares())\n",
    "def test_sum_perfect_squares(x,y):\n",
    "    result = sum_perfect_squares(x,y)\n",
    "    note(f\"input {x}+{y} = {tmp}\") # note is meant for debugging purposes\n",
    "    assert result == x+y\n",
    "\n",
    "test_sum_perfect_squares()"
   ]
  },
  {
   "cell_type": "markdown",
   "id": "67266e04-2dd1-4042-990f-4c1a16899ce1",
   "metadata": {},
   "source": [
    " ### 3. TDD"
   ]
  },
  {
   "cell_type": "markdown",
   "id": "6a68b506-10ce-4961-9f4a-9f69b85207fa",
   "metadata": {
    "editable": true,
    "slideshow": {
     "slide_type": ""
    },
    "tags": []
   },
   "source": [
    "\n",
    "\n",
    "<div class=\"alert alert-info\">\n",
    "Exercise 3.\n",
    "The goal is to develop a function that left-pads a given string\n",
    "with a particular character (see doctest below).\n",
    "    \n",
    "Come up with property-based test first, then go on to implement leftpad.\n",
    "\n",
    "Go back and forth as needed.\n",
    "</div>"
   ]
  },
  {
   "cell_type": "code",
   "execution_count": null,
   "id": "58103214-7691-4222-a503-9fa78ddc20ff",
   "metadata": {
    "editable": true,
    "slideshow": {
     "slide_type": ""
    },
    "tags": []
   },
   "outputs": [],
   "source": [
    "def leftpad(s: str, width: int, fillchar: str) -> str:\n",
    "    \"\"\"\n",
    "    Examples:\n",
    "    \n",
    "    >>> leftpad(\"Hello world\", width=15, char='@')\n",
    "    \"@@@@Hello world\"\n",
    "    \n",
    "    >>> leftpad(\"Jumanji\", width=2, char='X')\n",
    "    Jumanji\n",
    "    \"\"\"\n",
    "\n",
    "    assert isinstance(width, int) and width >= 0, width\n",
    "    assert isinstance(fillchar, str) and len(fillchar) == 1, fillchar\n",
    "\n",
    "    # Implementation goes here"
   ]
  },
  {
   "cell_type": "code",
   "execution_count": null,
   "id": "9c2b3f62-1983-43e8-ad71-16214cf70348",
   "metadata": {
    "editable": true,
    "slideshow": {
     "slide_type": ""
    },
    "tags": []
   },
   "outputs": [],
   "source": [
    "@given(param1=st.integers())\n",
    "def test_leftpad(param1):\n",
    "    pass"
   ]
  },
  {
   "cell_type": "markdown",
   "id": "82107d1f-555b-40e4-a5d3-cfd8eb1c9883",
   "metadata": {},
   "source": [
    "Although the exercise does not ask for it, remember one thing:\n",
    "\n",
    "A bunch of pytest-style test functions don't hurt and might even be needed in some cases!"
   ]
  },
  {
   "cell_type": "markdown",
   "id": "f69e0591-2d04-4f20-989e-4b1fba44f414",
   "metadata": {},
   "source": [
    "### 4. Food for thought:"
   ]
  },
  {
   "cell_type": "markdown",
   "id": "e228be35-d51c-4cf2-8af4-a6a3f2991598",
   "metadata": {},
   "source": [
    "Think about the last real world test scenario you encountered.\n",
    "\n",
    "Consider whether PBT would be suitable for it and which properties of that problem you could check."
   ]
  }
 ],
 "metadata": {
  "kernelspec": {
   "display_name": "Python 3 (ipykernel)",
   "language": "python",
   "name": "python3"
  },
  "language_info": {
   "codemirror_mode": {
    "name": "ipython",
    "version": 3
   },
   "file_extension": ".py",
   "mimetype": "text/x-python",
   "name": "python",
   "nbconvert_exporter": "python",
   "pygments_lexer": "ipython3",
   "version": "3.10.12"
  }
 },
 "nbformat": 4,
 "nbformat_minor": 5
}
